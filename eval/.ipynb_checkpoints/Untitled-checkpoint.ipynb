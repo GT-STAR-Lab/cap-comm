{
 "cells": [
  {
   "cell_type": "code",
   "execution_count": 2,
   "id": "8e6bf63a",
   "metadata": {},
   "outputs": [],
   "source": [
    "import numpy as np\n",
    "from matplotlib import pyplot as plt\n",
    "import json\n"
   ]
  },
  {
   "cell_type": "code",
   "execution_count": 3,
   "id": "0b302669",
   "metadata": {},
   "outputs": [
    {
     "ename": "NotADirectoryError",
     "evalue": "[Errno 20] Not a directory: '../results/sacred/qmix/mpe:TerrainDependantNavigation-v0/1/eval.json/eval.json'",
     "output_type": "error",
     "traceback": [
      "\u001b[0;31m---------------------------------------------------------------------------\u001b[0m",
      "\u001b[0;31mNotADirectoryError\u001b[0m                        Traceback (most recent call last)",
      "\u001b[0;32m/var/folders/_z/8dcphyld64jfmcfs6cjc_3xh0000gn/T/ipykernel_7169/2682721605.py\u001b[0m in \u001b[0;36m<module>\u001b[0;34m\u001b[0m\n\u001b[1;32m      7\u001b[0m \u001b[0;34m\u001b[0m\u001b[0m\n\u001b[1;32m      8\u001b[0m \u001b[0;32mfor\u001b[0m \u001b[0mfile\u001b[0m \u001b[0;32min\u001b[0m \u001b[0mfiles\u001b[0m\u001b[0;34m:\u001b[0m\u001b[0;34m\u001b[0m\u001b[0;34m\u001b[0m\u001b[0m\n\u001b[0;32m----> 9\u001b[0;31m     \u001b[0mf\u001b[0m \u001b[0;34m=\u001b[0m \u001b[0mopen\u001b[0m\u001b[0;34m(\u001b[0m\u001b[0mfile\u001b[0m \u001b[0;34m+\u001b[0m \u001b[0;34m'/eval.json'\u001b[0m\u001b[0;34m,\u001b[0m\u001b[0;34m)\u001b[0m\u001b[0;34m\u001b[0m\u001b[0;34m\u001b[0m\u001b[0m\n\u001b[0m\u001b[1;32m     10\u001b[0m     \u001b[0mdata\u001b[0m \u001b[0;34m=\u001b[0m \u001b[0mjson\u001b[0m\u001b[0;34m.\u001b[0m\u001b[0mload\u001b[0m\u001b[0;34m(\u001b[0m\u001b[0mf\u001b[0m\u001b[0;34m)\u001b[0m\u001b[0;34m\u001b[0m\u001b[0;34m\u001b[0m\u001b[0m\n",
      "\u001b[0;31mNotADirectoryError\u001b[0m: [Errno 20] Not a directory: '../results/sacred/qmix/mpe:TerrainDependantNavigation-v0/1/eval.json/eval.json'"
     ]
    }
   ],
   "source": [
    "files = ['../results/sacred/qmix/mpe:TerrainDependantNavigation-v0/1',\n",
    "        '../results/sacred/qmix/mpe:TerrainDependantNavigation-v0/2',\n",
    "        '../results/sacred/qmix/mpe:HeterogeneousMaterialTransport-v0/2',\n",
    "        '../results/sacred/qmix/mpe:HeterogeneousMaterialTransport-v0/3',\n",
    "        '../results/sacred/qmix/mpe:HeterogeneousSensorNetwork-v0/1',\n",
    "        '../results/sacred/qmix/mpe:HeterogeneousSensorNetwork-v0/2']\n",
    "\n",
    "for file in files:\n",
    "    f = open(file + '/eval.json',)\n",
    "    data = json.load(f)"
   ]
  },
  {
   "cell_type": "code",
   "execution_count": null,
   "id": "ccbaf26d",
   "metadata": {},
   "outputs": [],
   "source": [
    "import moviepy.editor as mp\n",
    "import os\n",
    "files = os.listdir('gifs')\n",
    "for file in files:\n",
    "    clip = mp.VideoFileClip(\"gifs/\" + file)\n",
    "    clip.write_videofile('mp4/' + file[:-4] + '.mp4')"
   ]
  }
 ],
 "metadata": {
  "kernelspec": {
   "display_name": "Python 3 (ipykernel)",
   "language": "python",
   "name": "python3"
  },
  "language_info": {
   "codemirror_mode": {
    "name": "ipython",
    "version": 3
   },
   "file_extension": ".py",
   "mimetype": "text/x-python",
   "name": "python",
   "nbconvert_exporter": "python",
   "pygments_lexer": "ipython3",
   "version": "3.7.11"
  }
 },
 "nbformat": 4,
 "nbformat_minor": 5
}
